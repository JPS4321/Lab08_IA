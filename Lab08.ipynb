{
 "cells": [
  {
   "cell_type": "markdown",
   "metadata": {},
   "source": [
    "# **Lab 5**\n",
    "- Juan Pablo Solis\n",
    "- Brandon Reyes\n",
    "- Carlos Valladares\n",
    "\n"
   ]
  },
  {
   "cell_type": "markdown",
   "metadata": {},
   "source": [
    "### **Task 1 Teoria**"
   ]
  },
  {
   "cell_type": "markdown",
   "metadata": {},
   "source": [
    "#### ***Investigar el algoritmo AC-3 y su relación con el algoritmo de backtracking search***\n",
    "\n",
    "El algoritmo AC-3 (Arc Consistency 3) se usa para reducir los dominios de las variables en problemas de satisfacción de restricciones (CSP), eliminando valores que no pueden formar parte de ninguna solución válida. Su relación con el algoritmo de backtracking search es que AC-3 puede aplicarse como un paso previo o durante el proceso de búsqueda para reducir el espacio de búsqueda, haciendo que el backtracking sea más eficiente al detectar inconsistencias antes de tomar decisiones.\n",
    "\n",
    "#### ***Defina el termino \"Arc Consistency\"***\n",
    "La arc consistency significa que, para cada valor posible de una variable, debe haber al menos un valor compatible en la variable relacionada (según las restricciones del problema). Así se asegura que no haya valores que lleven a un conflicto inmediato\n"
   ]
  },
  {
   "cell_type": "markdown",
   "metadata": {},
   "source": [
    "### **Algoritmo Backtracking**"
   ]
  },
  {
   "cell_type": "code",
   "execution_count": 1,
   "metadata": {},
   "outputs": [
    {
     "name": "stdout",
     "output_type": "stream",
     "text": [
      "Solución encontrada con Backtracking:\n",
      "E1 -> Lunes\n",
      "E2 -> Martes\n",
      "E3 -> Miércoles\n",
      "E4 -> Miércoles\n",
      "E5 -> Lunes\n",
      "E6 -> Martes\n",
      "E7 -> Martes\n",
      "\n",
      "Tiempo de ejecución: 0.000234 segundos\n"
     ]
    }
   ],
   "source": [
    "import time\n",
    "\n",
    "# Datos del problema\n",
    "examenes = ['E1', 'E2', 'E3', 'E4', 'E5', 'E6', 'E7']\n",
    "dias = ['Lunes', 'Martes', 'Miércoles']\n",
    "estudiantes = {\n",
    "    'A': ['E1', 'E2', 'E3'],\n",
    "    'B': ['E2', 'E4', 'E5'],\n",
    "    'C': ['E1', 'E4', 'E6'],\n",
    "    'D': ['E3', 'E5', 'E7']\n",
    "}\n",
    "\n",
    "# Verifica si una asignación es válida\n",
    "def es_valida(asignacion):\n",
    "    examenes_por_dia = {dia: [] for dia in dias}\n",
    "    for examen, dia in asignacion.items():\n",
    "        examenes_por_dia[dia].append(examen)\n",
    "\n",
    "    # Verificar que ningún estudiante tenga más de un examen por día\n",
    "    for estudiante, cursos in estudiantes.items():\n",
    "        examenes_estudiante = {dia: 0 for dia in dias}\n",
    "        for curso in cursos:\n",
    "            if curso in asignacion:\n",
    "                dia = asignacion[curso]\n",
    "                examenes_estudiante[dia] += 1\n",
    "                if examenes_estudiante[dia] > 1:\n",
    "                    return False\n",
    "    return True\n",
    "\n",
    "# Algoritmo de backtracking\n",
    "def backtracking(asignacion, examenes_disponibles):\n",
    "    if len(asignacion) == len(examenes):\n",
    "        return asignacion\n",
    "\n",
    "    examen = examenes_disponibles[0]\n",
    "    for dia in dias:\n",
    "        asignacion[examen] = dia\n",
    "        if es_valida(asignacion):\n",
    "            resultado = backtracking(asignacion.copy(), examenes_disponibles[1:])\n",
    "            if resultado:\n",
    "                return resultado\n",
    "        del asignacion[examen]\n",
    "    return None\n",
    "\n",
    "# Ejecutar y medir tiempo\n",
    "inicio = time.time()\n",
    "solucion = backtracking({}, examenes)\n",
    "fin = time.time()\n",
    "tiempo_total = fin - inicio\n",
    "\n",
    "# Mostrar resultados\n",
    "print(\"Solución encontrada con Backtracking:\")\n",
    "for examen, dia in solucion.items():\n",
    "    print(f\"{examen} -> {dia}\")\n",
    "print(f\"\\nTiempo de ejecución: {tiempo_total:.6f} segundos\")\n"
   ]
  },
  {
   "cell_type": "markdown",
   "metadata": {},
   "source": [
    "## Algoritmo Beam Search"
   ]
  },
  {
   "cell_type": "code",
   "execution_count": 10,
   "metadata": {},
   "outputs": [
    {
     "name": "stdout",
     "output_type": "stream",
     "text": [
      "Solución encontrada con Beam Search:\n",
      "E1 -> Lunes\n",
      "E2 -> Martes\n",
      "E3 -> Miércoles\n",
      "E4 -> Miércoles\n",
      "E5 -> Lunes\n",
      "E6 -> Martes\n",
      "E7 -> Martes\n",
      "\n",
      "Tiempo de ejecución: 0.0 segundos\n"
     ]
    }
   ],
   "source": [
    "import time\n",
    "import copy\n",
    "\n",
    "examenes = ['E1', 'E2', 'E3', 'E4', 'E5', 'E6', 'E7']\n",
    "dias = ['Lunes', 'Martes', 'Miércoles']\n",
    "estudiantes = {\n",
    "    'A': ['E1', 'E2', 'E3'],\n",
    "    'B': ['E2', 'E4', 'E5'],\n",
    "    'C': ['E1', 'E4', 'E6'],\n",
    "    'D': ['E3', 'E5', 'E7']\n",
    "}\n",
    "\n",
    "def es_valida(asignacion):\n",
    "    examenes_por_dia = {dia: [] for dia in dias}\n",
    "    for examen, dia in asignacion.items():\n",
    "        examenes_por_dia[dia].append(examen)\n",
    "\n",
    "    for estudiante, cursos in estudiantes.items():\n",
    "        examenes_estudiante = {dia: 0 for dia in dias}\n",
    "        for curso in cursos:\n",
    "            if curso in asignacion:\n",
    "                dia = asignacion[curso]\n",
    "                examenes_estudiante[dia] += 1\n",
    "                if examenes_estudiante[dia] > 1:\n",
    "                    return False\n",
    "    return True\n",
    "\n",
    "def calcular_peso(asignacion):\n",
    "    return sum(1 for e in examenes if e in asignacion)\n",
    "\n",
    "def beam_search(k):\n",
    "    candidatos = [{}]  \n",
    "    for examen in examenes:\n",
    "        nuevos_candidatos = []\n",
    "        for asignacion in candidatos:\n",
    "            for dia in dias:\n",
    "                nueva_asignacion = copy.deepcopy(asignacion)\n",
    "                nueva_asignacion[examen] = dia\n",
    "                if es_valida(nueva_asignacion):\n",
    "                    nuevos_candidatos.append(nueva_asignacion)\n",
    "        nuevos_candidatos.sort(key=calcular_peso, reverse=True)\n",
    "        candidatos = nuevos_candidatos[:k]\n",
    "        if not candidatos:\n",
    "            break\n",
    "    return candidatos[0] if candidatos else None\n",
    "\n",
    "inicio = time.time()\n",
    "solucion_beam = beam_search(k=3)  \n",
    "fin = time.time()\n",
    "tiempo_beam = fin - inicio\n",
    "\n",
    "print(\"Solución encontrada con Beam Search:\")\n",
    "if solucion_beam:\n",
    "    for examen, dia in solucion_beam.items():\n",
    "        print(str(examen) +\" -> \" +str(dia))\n",
    "else:\n",
    "    print(\"No se encontró solución.\")\n",
    "print(\"\\nTiempo de ejecución: \"+str(tiempo_beam) +\" segundos\")\n"
   ]
  }
 ],
 "metadata": {
  "kernelspec": {
   "display_name": "Python 3",
   "language": "python",
   "name": "python3"
  },
  "language_info": {
   "codemirror_mode": {
    "name": "ipython",
    "version": 3
   },
   "file_extension": ".py",
   "mimetype": "text/x-python",
   "name": "python",
   "nbconvert_exporter": "python",
   "pygments_lexer": "ipython3",
   "version": "3.12.6"
  }
 },
 "nbformat": 4,
 "nbformat_minor": 2
}
