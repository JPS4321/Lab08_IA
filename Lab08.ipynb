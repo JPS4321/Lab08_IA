{
 "cells": [
  {
   "cell_type": "markdown",
   "metadata": {},
   "source": [
    "# **Lab 5**\n",
    "- Juan Pablo Solis\n",
    "- Brandon Reyes\n",
    "- Carlos Valladares\n",
    "\n"
   ]
  },
  {
   "cell_type": "markdown",
   "metadata": {},
   "source": [
    "### **Task 1 Teoria**"
   ]
  },
  {
   "cell_type": "markdown",
   "metadata": {},
   "source": [
    "#### ***Investigar el algoritmo AC-3 y su relación con el algoritmo de backtracking search***\n",
    "\n",
    "El algoritmo AC-3 (Arc Consistency 3) se usa para reducir los dominios de las variables en problemas de satisfacción de restricciones (CSP), eliminando valores que no pueden formar parte de ninguna solución válida. Su relación con el algoritmo de backtracking search es que AC-3 puede aplicarse como un paso previo o durante el proceso de búsqueda para reducir el espacio de búsqueda, haciendo que el backtracking sea más eficiente al detectar inconsistencias antes de tomar decisiones.\n",
    "\n",
    "#### ***Defina el termino \"Arc Consistency\"***\n",
    "La arc consistency significa que, para cada valor posible de una variable, debe haber al menos un valor compatible en la variable relacionada (según las restricciones del problema). Así se asegura que no haya valores que lleven a un conflicto inmediato\n"
   ]
  }
 ],
 "metadata": {
  "language_info": {
   "name": "python"
  }
 },
 "nbformat": 4,
 "nbformat_minor": 2
}
